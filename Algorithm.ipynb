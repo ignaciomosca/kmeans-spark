{
 "cells": [
  {
   "cell_type": "markdown",
   "metadata": {},
   "source": [
    "<p> \n",
    "A SparkContext gets created\n",
    "</p>"
   ]
  },
  {
   "cell_type": "code",
   "execution_count": 1,
   "metadata": {},
   "outputs": [],
   "source": [
    "import pyspark\n",
    "from pyspark import Row\n",
    "from pyspark.sql import SQLContext\n",
    "from pyspark.sql.types import *\n",
    "from numpy import array\n",
    "from math import sqrt\n",
    "import sys\n",
    "\n",
    "from pyspark.mllib.clustering import KMeans, KMeansModel\n",
    "\n",
    "sc = pyspark.SparkContext('local[*]')\n",
    "sc._conf.set(\"spark.executor.memory\", \"12g\")\n",
    "sc._conf.set(\"spark.driver.memory\", \"12g\")\n",
    "sqlContext = pyspark.SQLContext(sc)"
   ]
  },
  {
   "cell_type": "markdown",
   "metadata": {},
   "source": [
    "<p> \n",
    "Data gets loaded from a parquet file named \"stackoverflow.parquet\", which is later turned into dataframes.\n",
    "</p>"
   ]
  },
  {
   "cell_type": "code",
   "execution_count": 2,
   "metadata": {},
   "outputs": [],
   "source": [
    "df = sqlContext.read.parquet(\"stackoverflow.parquet\")\n",
    "\n",
    "Posting = Row('question_answer', 'id', 'accepted_answer', 'parentId', 'score', 'language')\n",
    "\n",
    "posting = df.rdd.map(lambda r: Posting(*r))\n",
    "\n",
    "df = sqlContext.createDataFrame(posting, samplingRatio=0.1)"
   ]
  },
  {
   "cell_type": "code",
   "execution_count": 3,
   "metadata": {},
   "outputs": [],
   "source": [
    "# Languages\n",
    "languages = [\"JavaScript\", \"Java\", \"PHP\", \"Python\", \"C#\", \"C++\", \"Ruby\", \"CSS\",\n",
    "      \"Objective-C\", \"Perl\", \"Scala\", \"Haskell\", \"MATLAB\", \"Clojure\", \"Groovy\"]\n",
    "\n",
    "# How spread apart should the languages be for the K-Clustering algorithm\n",
    "langSpread = 50000\n",
    "\n",
    "# Number of clusters \n",
    "kmeansKernels = 45\n",
    "\n",
    "# Convergence Criterion\n",
    "kmeansEta = 20.0\n",
    "\n",
    "# Max number of iterations\n",
    "kmeansMaxIterations = 120"
   ]
  },
  {
   "cell_type": "code",
   "execution_count": 4,
   "metadata": {},
   "outputs": [],
   "source": [
    "questions = df.filter(df['question_answer'] == 1).rdd.map(lambda q: (q.id, q))\n",
    "answers = df.filter(df['question_answer'] == 2).rdd.map(lambda a: (a.parentId, a))\n",
    "\n",
    "group_questions_and_answers = questions.join(answers).groupByKey()"
   ]
  },
  {
   "cell_type": "code",
   "execution_count": 5,
   "metadata": {},
   "outputs": [
    {
     "name": "stdout",
     "output_type": "stream",
     "text": [
      "(Row(question_answer='1', id='21167403', accepted_answer=None, parentId=None, score='0', language='PHP'), '0')\n"
     ]
    }
   ],
   "source": [
    "def max_score(v):\n",
    "    return max(map(lambda r: r.score, list(v)))\n",
    "\n",
    "score_by_question = group_questions_and_answers.flatMap(lambda v: v[1]).groupByKey().mapValues(max_score)\n",
    "\n",
    "print(score_by_question.take(1)[0])\n"
   ]
  },
  {
   "cell_type": "code",
   "execution_count": 6,
   "metadata": {},
   "outputs": [
    {
     "data": {
      "text/plain": [
       "PythonRDD[35] at RDD at PythonRDD.scala:53"
      ]
     },
     "execution_count": 6,
     "metadata": {},
     "output_type": "execute_result"
    }
   ],
   "source": [
    "def getindexdefault(self, elem):\n",
    "        try:\n",
    "            idx = self.index(elem)\n",
    "            return idx\n",
    "        except ValueError:\n",
    "            return -1\n",
    "\n",
    "def first_language_in_languages(tag):\n",
    "    idx = getindexdefault(languages, tag)\n",
    "    if idx >= 0:\n",
    "        return idx\n",
    "    else:\n",
    "        return -1\n",
    "\n",
    "        \n",
    "\n",
    "vectors = score_by_question.filter(lambda x:  x[0].language is not u'').map(lambda x: ((first_language_in_languages(x[0].language)+1) * langSpread , x[1]))\n",
    "\n",
    "vectors.persist()\n",
    "\n"
   ]
  },
  {
   "cell_type": "code",
   "execution_count": 7,
   "metadata": {},
   "outputs": [
    {
     "name": "stdout",
     "output_type": "stream",
     "text": [
      "[(150000, '0'), (150000, '-1'), (150000, '1'), (150000, '0'), (150000, '0'), (200000, '0'), (150000, '0'), (300000, '0'), (100000, '911'), (150000, '2'), (150000, '1'), (400000, '3'), (300000, '0'), (300000, '0'), (200000, '9'), (150000, '0'), (300000, '0'), (200000, '6'), (300000, '0'), (150000, '0'), (150000, '0'), (200000, '2'), (150000, '0'), (150000, '0'), (150000, '1'), (150000, '-2'), (300000, '1'), (150000, '0'), (300000, '2'), (150000, '2'), (150000, '1'), (300000, '7'), (150000, '0'), (150000, '0'), (300000, '2'), (150000, '1'), (300000, '4'), (150000, '0'), (400000, '4'), (300000, '1'), (300000, '2'), (150000, '0'), (150000, '0'), (150000, '1'), (300000, '3'), (150000, '0'), (150000, '0'), (150000, '1'), (250000, '20'), (150000, '2')]\n"
     ]
    }
   ],
   "source": [
    "print(vectors.take(50))"
   ]
  },
  {
   "cell_type": "code",
   "execution_count": 8,
   "metadata": {},
   "outputs": [],
   "source": [
    "by_language = kmeansKernels / len(languages)\n",
    "\n"
   ]
  },
  {
   "cell_type": "code",
   "execution_count": 9,
   "metadata": {},
   "outputs": [],
   "source": [
    "# Train model\n",
    "\n",
    "clusters = KMeans.train(vectors, kmeansKernels, maxIterations=kmeansMaxIterations, initializationMode=\"random\")\n"
   ]
  },
  {
   "cell_type": "code",
   "execution_count": 10,
   "metadata": {},
   "outputs": [
    {
     "name": "stdout",
     "output_type": "stream",
     "text": [
      "+--------+-----+\n",
      "|language|score|\n",
      "+--------+-----+\n",
      "|  150000|    0|\n",
      "|  150000|   -1|\n",
      "|  150000|    1|\n",
      "|  150000|    0|\n",
      "|  150000|    0|\n",
      "|  200000|    0|\n",
      "|  150000|    0|\n",
      "|  300000|    0|\n",
      "|  100000|  911|\n",
      "|  150000|    2|\n",
      "|  150000|    1|\n",
      "|  400000|    3|\n",
      "|  300000|    0|\n",
      "|  300000|    0|\n",
      "|  200000|    9|\n",
      "|  150000|    0|\n",
      "|  300000|    0|\n",
      "|  200000|    6|\n",
      "|  300000|    0|\n",
      "|  150000|    0|\n",
      "+--------+-----+\n",
      "only showing top 20 rows\n",
      "\n"
     ]
    }
   ],
   "source": [
    "NewPosting = Row('language', 'score')\n",
    "\n",
    "posting = vectors.map(lambda r: NewPosting(*r))\n",
    "\n",
    "new_df = sqlContext.createDataFrame(posting, samplingRatio=0.1)\n",
    "\n",
    "new_df.show()"
   ]
  },
  {
   "cell_type": "code",
   "execution_count": 11,
   "metadata": {},
   "outputs": [
    {
     "name": "stdout",
     "output_type": "stream",
     "text": [
      "+--------+-----+----------------+\n",
      "|language|score|        features|\n",
      "+--------+-----+----------------+\n",
      "|  150000|    0|  [150000.0,0.0]|\n",
      "|  150000|   -1| [150000.0,-1.0]|\n",
      "|  150000|    1|  [150000.0,1.0]|\n",
      "|  150000|    0|  [150000.0,0.0]|\n",
      "|  150000|    0|  [150000.0,0.0]|\n",
      "|  200000|    0|  [200000.0,0.0]|\n",
      "|  150000|    0|  [150000.0,0.0]|\n",
      "|  300000|    0|  [300000.0,0.0]|\n",
      "|  100000|  911|[100000.0,911.0]|\n",
      "|  150000|    2|  [150000.0,2.0]|\n",
      "|  150000|    1|  [150000.0,1.0]|\n",
      "|  400000|    3|  [400000.0,3.0]|\n",
      "|  300000|    0|  [300000.0,0.0]|\n",
      "|  300000|    0|  [300000.0,0.0]|\n",
      "|  200000|    9|  [200000.0,9.0]|\n",
      "|  150000|    0|  [150000.0,0.0]|\n",
      "|  300000|    0|  [300000.0,0.0]|\n",
      "|  200000|    6|  [200000.0,6.0]|\n",
      "|  300000|    0|  [300000.0,0.0]|\n",
      "|  150000|    0|  [150000.0,0.0]|\n",
      "+--------+-----+----------------+\n",
      "only showing top 20 rows\n",
      "\n"
     ]
    },
    {
     "data": {
      "text/plain": [
       "Text(0, 0.5, 'cost')"
      ]
     },
     "execution_count": 11,
     "metadata": {},
     "output_type": "execute_result"
    },
    {
     "data": {
      "image/png": "[encoded data removed]",
      "text/plain": [
       "<Figure size 576x432 with 1 Axes>"
      ]
     },
     "metadata": {
      "needs_background": "light"
     },
     "output_type": "display_data"
    }
   ],
   "source": [
    "from pyspark.ml.feature import VectorAssembler\n",
    "import numpy as np\n",
    "import pandas as pd\n",
    "import matplotlib.pyplot as plt\n",
    "from mpl_toolkits.mplot3d import Axes3D\n",
    "from pyspark.ml.clustering import KMeans\n",
    "\n",
    "\n",
    "FEATURES_COL = ['language', 'score']\n",
    "\n",
    "for col in df.columns:\n",
    "    if col in FEATURES_COL:\n",
    "        new_df = new_df.withColumn(col,new_df[col].cast('int'))\n",
    "\n",
    "new_df = new_df.na.drop()\n",
    "new_df.schema\n",
    "\n",
    "vecAssembler = VectorAssembler(inputCols=FEATURES_COL, outputCol=\"features\")\n",
    "df_kmeans = vecAssembler.transform(new_df).select('language', 'score', 'features')\n",
    "df_kmeans.show()\n",
    "\n",
    "cost = np.zeros(20)\n",
    "for k in range(2,20):\n",
    "    kmeans = KMeans().setK(k).setSeed(1).setFeaturesCol(\"features\")\n",
    "    model = kmeans.fit(df_kmeans.sample(False,0.1, seed=42))\n",
    "    cost[k] = model.computeCost(df_kmeans) # requires Spark 2.0 or later\n",
    "    \n",
    "fig, ax = plt.subplots(1,1, figsize =(8,6))\n",
    "ax.plot(range(2,20),cost[2:20])\n",
    "ax.set_xlabel('k')\n",
    "ax.set_ylabel('cost')"
   ]
  },
  {
   "cell_type": "code",
   "execution_count": 12,
   "metadata": {},
   "outputs": [
    {
     "name": "stdout",
     "output_type": "stream",
     "text": [
      "Cluster Centers: \n",
      "[2.50000000e+05 1.10453231e+00]\n",
      "[4.00000000e+05 2.11342948e+00]\n",
      "[1.00000000e+05 4.47869599e-01]\n",
      "[1.50000000e+05 4.18475448e-01]\n",
      "[7.00000000e+05 4.43146836e+00]\n",
      "[5.00000000e+04 4.90311486e+00]\n",
      "[6.00000000e+05 5.27862957e+00]\n",
      "[2.00000000e+05 7.32137067e+00]\n",
      "[3.00000000e+05 2.67391943e+00]\n",
      "[5.00000000e+05 3.15579167e+00]\n",
      "[4.50000000e+05 1.53871322e+00]\n",
      "[5.50000000e+05 4.27435975e+00]\n",
      "[6.50000000e+05 2.20327167e+00]\n",
      "[7.50000000e+05 2.56927612e+00]\n",
      "[3.50000000e+05 3.25160207e+00]\n",
      "[250000.            640.33333333]\n",
      "[1.00000000e+05 6.20447691e+01]\n",
      "[100000.       728.375]\n",
      "[1.5000000e+05 1.0623815e+01]\n",
      "[2.00000000e+05 8.41061693e+01]\n",
      "[50000.           366.47368421]\n",
      "[300000.            592.90909091]\n",
      "[50000.            78.92704918]\n",
      "[2.50000000e+05 6.54045293e+01]\n",
      "[400000.        696.9375]\n",
      "[350000.            598.16666667]\n",
      "[4.50000000e+05 7.83899557e+01]\n",
      "[100000.            247.35897436]\n",
      "[1.00000000e+05 9.02687995e+00]\n",
      "[5.00000000e+04 7.43837808e-01]\n",
      "[200000.            644.33333333]\n",
      "[1.50000000e+05 6.42691892e+01]\n",
      "[4.00000000e+05 2.22177778e+02]\n",
      "[3.00000000e+05 5.68719212e+01]\n",
      "[450000.            615.19047619]\n",
      "[2.00000000e+05 1.39939073e+00]\n",
      "[1.50000000e+05 2.98477338e+00]\n",
      "[150000.            551.86666667]\n",
      "[5.00000000e+04 3.16643134e+01]\n",
      "[2.00000000e+05 3.55248843e+01]\n",
      "[500000.    836.]\n",
      "[50000.           817.69230769]\n",
      "[2.50000000e+05 6.75690423e+00]\n",
      "[4.50000000e+05 1.43748674e+01]\n",
      "[1.00000000e+05 2.91827497e+00]\n"
     ]
    }
   ],
   "source": [
    "kmeans = KMeans().setK(kmeansKernels).setSeed(1).setFeaturesCol(\"features\")\n",
    "model = kmeans.fit(df_kmeans)\n",
    "centers = model.clusterCenters()\n",
    "\n",
    "print(\"Cluster Centers: \")\n",
    "for center in centers:\n",
    "    print(center)"
   ]
  },
  {
   "cell_type": "code",
   "execution_count": 13,
   "metadata": {},
   "outputs": [
    {
     "name": "stdout",
     "output_type": "stream",
     "text": [
      "[Row(language=150000, prediction=3), Row(language=150000, prediction=3), Row(language=150000, prediction=3)]\n"
     ]
    }
   ],
   "source": [
    "transformed = model.transform(df_kmeans).select('language', 'prediction')\n",
    "rows = transformed.collect()\n",
    "print(rows[:3])"
   ]
  },
  {
   "cell_type": "code",
   "execution_count": 14,
   "metadata": {},
   "outputs": [
    {
     "name": "stdout",
     "output_type": "stream",
     "text": [
      "+--------+----------+\n",
      "|language|prediction|\n",
      "+--------+----------+\n",
      "|  150000|         3|\n",
      "|  150000|         3|\n",
      "|  150000|         3|\n",
      "|  150000|         3|\n",
      "|  150000|         3|\n",
      "|  200000|        35|\n",
      "|  150000|         3|\n",
      "|  300000|         8|\n",
      "|  100000|        17|\n",
      "|  150000|        36|\n",
      "|  150000|         3|\n",
      "|  400000|         1|\n",
      "|  300000|         8|\n",
      "|  300000|         8|\n",
      "|  200000|         7|\n",
      "|  150000|         3|\n",
      "|  300000|         8|\n",
      "|  200000|         7|\n",
      "|  300000|         8|\n",
      "|  150000|         3|\n",
      "+--------+----------+\n",
      "only showing top 20 rows\n",
      "\n"
     ]
    }
   ],
   "source": [
    "df_pred = sqlContext.createDataFrame(rows)\n",
    "df_pred.show()"
   ]
  },
  {
   "cell_type": "code",
   "execution_count": 15,
   "metadata": {
    "scrolled": true
   },
   "outputs": [
    {
     "name": "stdout",
     "output_type": "stream",
     "text": [
      "+--------+----------+-----+\n",
      "|language|prediction|score|\n",
      "+--------+----------+-----+\n",
      "|  350000|        14|   12|\n",
      "|  350000|        14|    5|\n",
      "|  350000|        14|    9|\n",
      "|  350000|        14|    6|\n",
      "|  350000|        14|    6|\n",
      "|  350000|        14|    6|\n",
      "|  350000|        14|   14|\n",
      "|  350000|        14|    4|\n",
      "|  350000|        14|    0|\n",
      "|  350000|        14|    7|\n",
      "|  350000|        14|    3|\n",
      "|  350000|        14|    5|\n",
      "|  350000|        14|    1|\n",
      "|  350000|        14|    9|\n",
      "|  350000|        14|    9|\n",
      "|  350000|        14|    3|\n",
      "|  350000|        14|    6|\n",
      "|  350000|        14|   16|\n",
      "|  350000|        14|    4|\n",
      "|  350000|        14|    2|\n",
      "+--------+----------+-----+\n",
      "only showing top 20 rows\n",
      "\n"
     ]
    }
   ],
   "source": [
    "df_pred = df_pred.join(new_df, 'language')\n",
    "df_pred.show()"
   ]
  },
  {
   "cell_type": "code",
   "execution_count": 16,
   "metadata": {},
   "outputs": [
    {
     "name": "stdout",
     "output_type": "stream",
     "text": [
      "[Row(language=350000, prediction=14, score=12), Row(language=350000, prediction=14, score=5), Row(language=350000, prediction=14, score=9)]\n"
     ]
    }
   ],
   "source": [
    "print(df_pred.take(3))\n"
   ]
  },
  {
   "cell_type": "code",
   "execution_count": 17,
   "metadata": {},
   "outputs": [],
   "source": [
    "pddf_pred = df_pred.sample(False, 0.00001).toPandas()\n"
   ]
  },
  {
   "cell_type": "code",
   "execution_count": 18,
   "metadata": {},
   "outputs": [
    {
     "data": {
      "text/html": [
       "<div>\n",
       "<style scoped>\n",
       "    .dataframe tbody tr th:only-of-type {\n",
       "        vertical-align: middle;\n",
       "    }\n",
       "\n",
       "    .dataframe tbody tr th {\n",
       "        vertical-align: top;\n",
       "    }\n",
       "\n",
       "    .dataframe thead th {\n",
       "        text-align: right;\n",
       "    }\n",
       "</style>\n",
       "<table border=\"1\" class=\"dataframe\">\n",
       "  <thead>\n",
       "    <tr style=\"text-align: right;\">\n",
       "      <th></th>\n",
       "      <th>language</th>\n",
       "      <th>prediction</th>\n",
       "      <th>score</th>\n",
       "    </tr>\n",
       "  </thead>\n",
       "  <tbody>\n",
       "    <tr>\n",
       "      <th>0</th>\n",
       "      <td>350000</td>\n",
       "      <td>14</td>\n",
       "      <td>0</td>\n",
       "    </tr>\n",
       "    <tr>\n",
       "      <th>1</th>\n",
       "      <td>350000</td>\n",
       "      <td>14</td>\n",
       "      <td>1</td>\n",
       "    </tr>\n",
       "    <tr>\n",
       "      <th>2</th>\n",
       "      <td>350000</td>\n",
       "      <td>14</td>\n",
       "      <td>1</td>\n",
       "    </tr>\n",
       "    <tr>\n",
       "      <th>3</th>\n",
       "      <td>350000</td>\n",
       "      <td>14</td>\n",
       "      <td>0</td>\n",
       "    </tr>\n",
       "    <tr>\n",
       "      <th>4</th>\n",
       "      <td>350000</td>\n",
       "      <td>14</td>\n",
       "      <td>8</td>\n",
       "    </tr>\n",
       "  </tbody>\n",
       "</table>\n",
       "</div>"
      ],
      "text/plain": [
       "   language  prediction  score\n",
       "0    350000          14      0\n",
       "1    350000          14      1\n",
       "2    350000          14      1\n",
       "3    350000          14      0\n",
       "4    350000          14      8"
      ]
     },
     "execution_count": 18,
     "metadata": {},
     "output_type": "execute_result"
    }
   ],
   "source": [
    "pddf_pred.head()"
   ]
  },
  {
   "cell_type": "code",
   "execution_count": 19,
   "metadata": {},
   "outputs": [
    {
     "name": "stdout",
     "output_type": "stream",
     "text": [
      "(6043377, 3)\n"
     ]
    }
   ],
   "source": [
    "\n",
    "print(pddf_pred.shape) "
   ]
  },
  {
   "cell_type": "code",
   "execution_count": 20,
   "metadata": {},
   "outputs": [],
   "source": [
    "pddf_pred.to_csv('pandas_csv.csv')"
   ]
  },
  {
   "cell_type": "code",
   "execution_count": 21,
   "metadata": {},
   "outputs": [
    {
     "data": {
      "image/png": "[encoded data removed]",
      "text/plain": [
       "<Figure size 864x720 with 1 Axes>"
      ]
     },
     "metadata": {
      "needs_background": "light"
     },
     "output_type": "display_data"
    }
   ],
   "source": [
    "threedee = plt.figure(figsize=(12,10)).gca(projection='3d')\n",
    "threedee.scatter(pddf_pred.language, pddf_pred.prediction, c=pddf_pred.score)\n",
    "threedee.set_xlabel('language')\n",
    "threedee.set_ylabel('prediction')\n",
    "threedee.set_zlabel('score')\n",
    "plt.show()"
   ]
  }
 ],
 "metadata": {
  "kernelspec": {
   "display_name": "Python 3",
   "language": "python",
   "name": "python3"
  },
  "language_info": {
   "codemirror_mode": {
    "name": "ipython",
    "version": 3
   },
   "file_extension": ".py",
   "mimetype": "text/x-python",
   "name": "python",
   "nbconvert_exporter": "python",
   "pygments_lexer": "ipython3",
   "version": "3.7.6"
  }
 },
 "nbformat": 4,
 "nbformat_minor": 2
}
